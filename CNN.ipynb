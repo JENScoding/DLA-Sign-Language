{
 "cells": [
  {
   "cell_type": "markdown",
   "metadata": {},
   "source": [
    "# Sign Language Image Classification with a Convolutional Neural Network\n",
    "By Jens Lichter, Quentin Seifert and Anton Thielmann"
   ]
  },
  {
   "cell_type": "markdown",
   "metadata": {},
   "source": [
    "## Preperation"
   ]
  },
  {
   "cell_type": "markdown",
   "metadata": {},
   "source": [
    "### Load recquired packages"
   ]
  },
  {
   "cell_type": "code",
   "execution_count": 1,
   "metadata": {},
   "outputs": [
    {
     "name": "stderr",
     "output_type": "stream",
     "text": [
      "Using TensorFlow backend.\n"
     ]
    }
   ],
   "source": [
    "import numpy as np\n",
    "import pandas as pd\n",
    "import tensorflow as tf  # tensorflow 2.0\n",
    "import matplotlib.pyplot as plt\n",
    "import string\n",
    "import seaborn\n",
    "import os\n",
    "from sklearn.preprocessing import LabelBinarizer\n",
    "from sklearn.model_selection import train_test_split\n",
    "from keras.preprocessing.image import ImageDataGenerator"
   ]
  },
  {
   "cell_type": "markdown",
   "metadata": {},
   "source": [
    "### Define arguments"
   ]
  },
  {
   "cell_type": "markdown",
   "metadata": {},
   "source": [
    "We define some values that can be custmized by the user. They are written in all caps so the user can easily see at what points these values play a role."
   ]
  },
  {
   "cell_type": "code",
   "execution_count": 2,
   "metadata": {},
   "outputs": [],
   "source": [
    "VAL_SIZE = 0.2\n",
    "INIT_STDDEV = 0.01\n",
    "EPOCHS = 50\n",
    "BATCH_SIZE = 100\n",
    "KEEP_PROB = 0.7\n",
    "ROTATE = True\n",
    "VERTICAL = True\n",
    "BRIGHT = True\n",
    "MIXL1L2 = 0\n",
    "LAMBDA = 0"
   ]
  },
  {
   "cell_type": "markdown",
   "metadata": {},
   "source": [
    "### Data preperation"
   ]
  },
  {
   "cell_type": "markdown",
   "metadata": {},
   "source": [
    "(Make sure the paths are correct!)"
   ]
  },
  {
   "cell_type": "code",
   "execution_count": 3,
   "metadata": {},
   "outputs": [],
   "source": [
    "# load data\n",
    "train = pd.read_csv('../sign-language-mnist/sign_mnist_train.csv')\n",
    "test = pd.read_csv('../sign-language-mnist/sign_mnist_test.csv')\n",
    "\n",
    "# dictonary for numbers of the labels\n",
    "un_labels = np.unique(train.iloc[:, 0])\n",
    "letters = np.delete(np.array(list(string.ascii_uppercase[0:25])), 9)\n",
    "s = pd.Series(letters, index=un_labels)\n",
    "dict_letters = s.to_dict()\n",
    "\n",
    "# dictionary for prediction -> delete entry with j\n",
    "s = pd.Series(letters)\n",
    "dict_pred = s.to_dict()\n",
    "\n",
    "# Since our target variable are in categorical(nomial) - binarize the labels\n",
    "label_binarizer = LabelBinarizer()\n",
    "y_train = label_binarizer.fit_transform(train['label'].values)\n",
    "y_test = label_binarizer.fit_transform(test['label'].values)\n",
    "\n",
    "# drop the labels from training dataset - first column\n",
    "train.drop('label', axis=1, inplace=True)\n",
    "test.drop('label', axis=1, inplace=True)\n",
    "\n",
    "# Reshape the images\n",
    "x_train = train.values\n",
    "x_test = test.values\n",
    "\n",
    "\n",
    "# split training data to training and validation\n",
    "x_train, x_val, y_train, y_val = train_test_split(x_train, y_train, test_size=VAL_SIZE, random_state=101)"
   ]
  },
  {
   "cell_type": "markdown",
   "metadata": {},
   "source": [
    "#### Helper functions for data augmentation"
   ]
  },
  {
   "cell_type": "code",
   "execution_count": 4,
   "metadata": {},
   "outputs": [],
   "source": [
    "def rotation(data_x, data_y, angle, size):\n",
    "    rotate = ImageDataGenerator(rotation_range=angle)\n",
    "    rotate.fit(data_x)\n",
    "    for x_rot, y_rot in rotate.flow(data_x, data_y, batch_size=size, shuffle=True):\n",
    "        break\n",
    "    return x_rot, y_rot\n",
    "\n",
    "\n",
    "def vertical_shift(data_x, data_y, range, size):\n",
    "    vertical = ImageDataGenerator(width_shift_range=range)\n",
    "    vertical.fit(data_x)\n",
    "    for x_vert, y_vert in vertical.flow(data_x, data_y, batch_size=size, shuffle=True):\n",
    "        break\n",
    "    return x_vert, y_vert\n",
    "\n",
    "def brightness_change(data_x, data_y, range, size):\n",
    "    brightness = ImageDataGenerator(brightness_range=range)\n",
    "    brightness.fit(data_x)\n",
    "    for x_bright, y_bright in brightness.flow(data_x, data_y, batch_size=size, shuffle=True):\n",
    "        break\n",
    "    return x_bright, y_bright"
   ]
  },
  {
   "cell_type": "markdown",
   "metadata": {},
   "source": [
    "If the according arguments are set to `True` the following cell will augment the training data."
   ]
  },
  {
   "cell_type": "code",
   "execution_count": 5,
   "metadata": {},
   "outputs": [],
   "source": [
    "if ROTATE==True:\n",
    "    #reshape images for rotation function\n",
    "    x_train = x_train.reshape(x_train.shape[0], 28, 28, 1)\n",
    "    #rotate images and append to complete data\n",
    "    from data_augmentation import rotation\n",
    "    images_new, labels_new = rotation(x_train, y_train, angle=30, size=2000)\n",
    "    x_train = np.concatenate((x_train, images_new), axis=0)\n",
    "    y_train = np.concatenate((y_train, labels_new), axis=0)\n",
    "    #reshape images for test split\n",
    "    x_train = np.array([i.flatten() for i in x_train])\n",
    "\n",
    "if VERTICAL==True:\n",
    "    #reshape images into format for vertical_shift functionx_train, y_train\n",
    "    x_train = x_train.reshape(x_train.shape[0], 28, 28, 1)\n",
    "    #shift images vertically and append to complete data\n",
    "    from data_augmentation import vertical_shift\n",
    "    images_new, labels_new = vertical_shift(x_train, y_train, range=[-5,5], size=2000)\n",
    "    x_train = np.concatenate((x_train, images_new), axis=0)\n",
    "    y_train = np.concatenate((y_train, labels_new), axis=0)\n",
    "    #reshape images for test split\n",
    "    x_train = np.array([i.flatten() for i in x_train])\n",
    "\n",
    "if BRIGHT==True:\n",
    "    #reshape images into format for vertical_shift functionx_train, y_train\n",
    "    x_train = x_train.reshape(x_train.shape[0], 28, 28, 1)\n",
    "    #shift images vertically and append to complete data\n",
    "    from data_augmentation import brightness_change\n",
    "    images_new, labels_new = brightness_change(x_train, y_train, range=[0.2, 0.9], size=2000)\n",
    "    x_train = np.concatenate((x_train, images_new), axis=0)\n",
    "    y_train = np.concatenate((y_train, labels_new), axis=0)\n",
    "    #reshape images for test split\n",
    "    x_train = np.array([i.flatten() for i in x_train])"
   ]
  },
  {
   "cell_type": "markdown",
   "metadata": {},
   "source": [
    "### Define helper functions for CNN"
   ]
  },
  {
   "cell_type": "markdown",
   "metadata": {},
   "source": [
    "In this section we define helper functions in order to make the construction of our network more comprehensible "
   ]
  },
  {
   "cell_type": "code",
   "execution_count": 6,
   "metadata": {},
   "outputs": [],
   "source": [
    "# weights for convolutional layers - initialized randomly with truncated normal\n",
    "def weight_variable(shape):\n",
    "    initial = tf.random.truncated_normal(shape, stddev=INIT_STDDEV)\n",
    "    return(tf.Variable(initial))\n",
    "\n",
    "# bias in convolutional layers\n",
    "def bias_variable(shape):\n",
    "    initial = tf.constant(0.01, shape=shape)\n",
    "    return(tf.Variable(initial))\n",
    "\n",
    "# specify convolution we are using (full convolution)\n",
    "def conv2d(x, W):\n",
    "    return(tf.nn.conv2d(x, W, strides=[1, 1, 1, 1], padding='SAME'))\n",
    "\n",
    "# max pool, using 2x2 batches of the feature map\n",
    "def max_pool_2x2(x):\n",
    "    return(tf.nn.max_pool(x, ksize=[1, 2, 2, 1],\n",
    "                          strides=[1, 2, 2, 1], padding='SAME'))\n",
    "\n",
    "# linear convolution with bias, followed by ReLU nonlinearity\n",
    "def conv_layer(input, shape):\n",
    "    W = weight_variable(shape)\n",
    "    b = bias_variable([shape[3]])\n",
    "    return([tf.nn.relu(conv2d(input, W) + b), W])\n",
    "\n",
    "# standard fully connected layer with bias\n",
    "def full_layer(input, size):\n",
    "    in_size = int(input.get_shape()[1])\n",
    "    W = weight_variable([in_size, size])\n",
    "    b = bias_variable([size])\n",
    "    return([tf.matmul(input, W) + b, W])\n",
    "\n",
    "# define own next_batch function from MNIST\n",
    "def get_next_batch(x, y, start, end):\n",
    "    x_batch = x[start:end]\n",
    "    y_batch = y[start:end]\n",
    "    return x_batch, y_batch"
   ]
  },
  {
   "cell_type": "markdown",
   "metadata": {},
   "source": [
    "### Construction of the final model"
   ]
  },
  {
   "cell_type": "code",
   "execution_count": 7,
   "metadata": {},
   "outputs": [
    {
     "name": "stdout",
     "output_type": "stream",
     "text": [
      "WARNING:tensorflow:From c:\\users\\anton\\appdata\\local\\programs\\python\\python37\\lib\\site-packages\\tensorflow_core\\python\\ops\\resource_variable_ops.py:1635: calling BaseResourceVariable.__init__ (from tensorflow.python.ops.resource_variable_ops) with constraint is deprecated and will be removed in a future version.\n",
      "Instructions for updating:\n",
      "If using Keras pass *_constraint arguments to layers.\n"
     ]
    }
   ],
   "source": [
    "# enable eager execution\n",
    "tf.compat.v1.disable_eager_execution()\n",
    "\n",
    "# Define Placeholders for images, labels and keep prob\n",
    "x = tf.compat.v1.placeholder(tf.float32, shape=[None, 784], name='x')\n",
    "y_ = tf.compat.v1.placeholder(tf.float32, shape=[None, 24], name='y_')\n",
    "keep_prob = tf.compat.v1.placeholder(tf.float32, name='keep_prob')\n",
    "\n",
    "# reshape image data into 2D image format with size 28x28x1, 28x28 pixels in one channel\n",
    "x_image = tf.reshape(x, [-1, 28, 28, 1])\n",
    "\n",
    "# two layers of convolution and pooling, using 16 and 32 filters respectively\n",
    "conv1, weights_1 = conv_layer(x_image, shape=[3, 3, 1, 16])\n",
    "conv1_pool = max_pool_2x2(conv1)\n",
    "conv1_pool = tf.compat.v1.nn.dropout(conv1_pool, rate=1-keep_prob)\n",
    "\n",
    "conv2, weights_2 = conv_layer(conv1_pool, shape=[3, 3, 16, 32])\n",
    "conv2_pool = max_pool_2x2(conv2)\n",
    "conv2_pool = tf.compat.v1.nn.dropout(conv2_pool, rate=1-keep_prob)\n",
    "\n",
    "# fully connected layer, activate with relu\n",
    "conv1_flat = tf.reshape(conv2_pool, [-1, 7*7*32])\n",
    "full_0, weights_3 = full_layer(conv1_flat, 256)\n",
    "full_1 = tf.nn.relu(full_0)\n",
    "\n",
    "# rate set to 1-keep_prob\n",
    "full1_drop = tf.compat.v1.nn.dropout(full_1, rate=1 - keep_prob)\n",
    "\n",
    "# output = fully connected layer with 24 units(labels of handsigns)\n",
    "y_conv, weights_4 = full_layer(full1_drop, 24)\n",
    "y_pred = tf.argmax(y_conv, 1, name='y_pred')\n",
    "\n",
    "# calculate loss by using softmax on logit model and apply cross entropy\n",
    "cross_entropy = tf.reduce_mean(tf.nn.softmax_cross_entropy_with_logits(logits=y_conv, labels=y_))\n",
    "\n",
    "# add regularisation penalties\n",
    "l1 = tf.reduce_sum(tf.abs(weights_1)) + tf.reduce_sum(tf.abs(weights_2)) \\\n",
    "     + tf.reduce_sum(tf.abs(weights_3)) + tf.reduce_sum(tf.abs(weights_4))\n",
    "l2 = tf.nn.l2_loss(weights_1) + tf.nn.l2_loss(weights_2) \\\n",
    "     + tf.nn.l2_loss(weights_3) + tf.nn.l2_loss(weights_4)\n",
    "shrinkage = tf.reduce_mean(cross_entropy + MIXL1L2 * LAMBDA * l1 + (1 - MIXL1L2) * LAMBDA * l2)\n",
    "\n",
    "# optimization with Adams optimizer\n",
    "train_step = tf.compat.v1.train.AdamOptimizer(1e-4).minimize(shrinkage)\n",
    "\n",
    "# predict values and get accuracy\n",
    "correct_prediction = tf.equal(tf.argmax(y_conv, 1), tf.argmax(y_, 1))\n",
    "accuracy = tf.reduce_mean(tf.cast(correct_prediction, tf.float32))\n",
    "\n",
    "# create model saver\n",
    "saver = tf.compat.v1.train.Saver()"
   ]
  },
  {
   "cell_type": "markdown",
   "metadata": {},
   "source": [
    "### Execution phase"
   ]
  },
  {
   "cell_type": "code",
   "execution_count": 8,
   "metadata": {},
   "outputs": [
    {
     "name": "stdout",
     "output_type": "stream",
     "text": [
      "Training epoch:  1\n",
      "iter   0:\t Loss=3.178,\tTraining Accuracy=2.00000%\n",
      "iter 100:\t Loss=3.141,\tTraining Accuracy=5.00000%\n",
      "iter 200:\t Loss=2.332,\tTraining Accuracy=36.00000%\n",
      "---------------------------------------------------------\n",
      "Epoch: 1, validation loss: 2.151, validation accuracy: 35.65835%\n",
      "---------------------------------------------------------\n",
      "Training epoch:  2\n",
      "iter   0:\t Loss=2.099,\tTraining Accuracy=42.00000%\n",
      "iter 100:\t Loss=1.297,\tTraining Accuracy=66.00000%\n",
      "iter 200:\t Loss=1.009,\tTraining Accuracy=75.00000%\n",
      "---------------------------------------------------------\n",
      "Epoch: 2, validation loss: 1.305, validation accuracy: 59.35166%\n",
      "---------------------------------------------------------\n",
      "Training epoch:  3\n",
      "iter   0:\t Loss=1.188,\tTraining Accuracy=65.00000%\n",
      "iter 100:\t Loss=0.692,\tTraining Accuracy=78.00000%\n",
      "iter 200:\t Loss=0.634,\tTraining Accuracy=81.00000%\n",
      "---------------------------------------------------------\n",
      "Epoch: 3, validation loss: 1.000, validation accuracy: 68.93098%\n",
      "---------------------------------------------------------\n",
      "Training epoch:  4\n",
      "iter   0:\t Loss=0.756,\tTraining Accuracy=79.00000%\n",
      "iter 100:\t Loss=0.469,\tTraining Accuracy=88.00000%\n",
      "iter 200:\t Loss=0.433,\tTraining Accuracy=85.00000%\n",
      "---------------------------------------------------------\n",
      "Epoch: 4, validation loss: 0.793, validation accuracy: 75.50537%\n",
      "---------------------------------------------------------\n",
      "Training epoch:  5\n",
      "iter   0:\t Loss=0.533,\tTraining Accuracy=88.00000%\n",
      "iter 100:\t Loss=0.352,\tTraining Accuracy=92.00000%\n",
      "iter 200:\t Loss=0.306,\tTraining Accuracy=94.00000%\n",
      "---------------------------------------------------------\n",
      "Epoch: 5, validation loss: 0.665, validation accuracy: 79.16591%\n",
      "---------------------------------------------------------\n",
      "Training epoch:  6\n",
      "iter   0:\t Loss=0.413,\tTraining Accuracy=90.00000%\n",
      "iter 100:\t Loss=0.260,\tTraining Accuracy=95.00000%\n",
      "iter 200:\t Loss=0.210,\tTraining Accuracy=99.00000%\n",
      "---------------------------------------------------------\n",
      "Epoch: 6, validation loss: 0.553, validation accuracy: 82.93571%\n",
      "---------------------------------------------------------\n",
      "Training epoch:  7\n",
      "iter   0:\t Loss=0.316,\tTraining Accuracy=96.00000%\n",
      "iter 100:\t Loss=0.195,\tTraining Accuracy=94.00000%\n",
      "iter 200:\t Loss=0.147,\tTraining Accuracy=100.00000%\n",
      "---------------------------------------------------------\n",
      "Epoch: 7, validation loss: 0.459, validation accuracy: 85.61282%\n",
      "---------------------------------------------------------\n",
      "Training epoch:  8\n",
      "iter   0:\t Loss=0.226,\tTraining Accuracy=97.00000%\n",
      "iter 100:\t Loss=0.153,\tTraining Accuracy=96.00000%\n",
      "iter 200:\t Loss=0.101,\tTraining Accuracy=100.00000%\n",
      "---------------------------------------------------------\n",
      "Epoch: 8, validation loss: 0.401, validation accuracy: 88.32635%\n",
      "---------------------------------------------------------\n",
      "Training epoch:  9\n",
      "iter   0:\t Loss=0.178,\tTraining Accuracy=98.00000%\n",
      "iter 100:\t Loss=0.116,\tTraining Accuracy=99.00000%\n",
      "iter 200:\t Loss=0.078,\tTraining Accuracy=100.00000%\n",
      "---------------------------------------------------------\n",
      "Epoch: 9, validation loss: 0.342, validation accuracy: 89.91076%\n",
      "---------------------------------------------------------\n",
      "Training epoch:  10\n",
      "iter   0:\t Loss=0.150,\tTraining Accuracy=99.00000%\n",
      "iter 100:\t Loss=0.093,\tTraining Accuracy=99.00000%\n",
      "iter 200:\t Loss=0.057,\tTraining Accuracy=100.00000%\n",
      "---------------------------------------------------------\n",
      "Epoch: 10, validation loss: 0.296, validation accuracy: 91.44054%\n",
      "---------------------------------------------------------\n",
      "Training epoch:  11\n",
      "iter   0:\t Loss=0.113,\tTraining Accuracy=100.00000%\n",
      "iter 100:\t Loss=0.071,\tTraining Accuracy=100.00000%\n",
      "iter 200:\t Loss=0.042,\tTraining Accuracy=100.00000%\n",
      "---------------------------------------------------------\n",
      "Epoch: 11, validation loss: 0.262, validation accuracy: 92.66072%\n",
      "---------------------------------------------------------\n",
      "Training epoch:  12\n",
      "iter   0:\t Loss=0.091,\tTraining Accuracy=100.00000%\n",
      "iter 100:\t Loss=0.058,\tTraining Accuracy=100.00000%\n",
      "iter 200:\t Loss=0.031,\tTraining Accuracy=100.00000%\n",
      "---------------------------------------------------------\n",
      "Epoch: 12, validation loss: 0.248, validation accuracy: 92.82462%\n",
      "---------------------------------------------------------\n",
      "Training epoch:  13\n",
      "iter   0:\t Loss=0.079,\tTraining Accuracy=100.00000%\n",
      "iter 100:\t Loss=0.045,\tTraining Accuracy=100.00000%\n",
      "iter 200:\t Loss=0.023,\tTraining Accuracy=100.00000%\n",
      "---------------------------------------------------------\n",
      "Epoch: 13, validation loss: 0.213, validation accuracy: 94.20871%\n",
      "---------------------------------------------------------\n",
      "Training epoch:  14\n",
      "iter   0:\t Loss=0.062,\tTraining Accuracy=100.00000%\n",
      "iter 100:\t Loss=0.041,\tTraining Accuracy=100.00000%\n",
      "iter 200:\t Loss=0.017,\tTraining Accuracy=100.00000%\n",
      "---------------------------------------------------------\n",
      "Epoch: 14, validation loss: 0.190, validation accuracy: 94.73684%\n",
      "---------------------------------------------------------\n",
      "Training epoch:  15\n",
      "iter   0:\t Loss=0.045,\tTraining Accuracy=100.00000%\n",
      "iter 100:\t Loss=0.035,\tTraining Accuracy=100.00000%\n",
      "iter 200:\t Loss=0.011,\tTraining Accuracy=100.00000%\n",
      "---------------------------------------------------------\n",
      "Epoch: 15, validation loss: 0.182, validation accuracy: 95.13749%\n",
      "---------------------------------------------------------\n",
      "Training epoch:  16\n",
      "iter   0:\t Loss=0.038,\tTraining Accuracy=100.00000%\n",
      "iter 100:\t Loss=0.024,\tTraining Accuracy=100.00000%\n",
      "iter 200:\t Loss=0.010,\tTraining Accuracy=100.00000%\n",
      "---------------------------------------------------------\n",
      "Epoch: 16, validation loss: 0.158, validation accuracy: 95.59279%\n",
      "---------------------------------------------------------\n",
      "Training epoch:  17\n",
      "iter   0:\t Loss=0.032,\tTraining Accuracy=100.00000%\n",
      "iter 100:\t Loss=0.019,\tTraining Accuracy=100.00000%\n",
      "iter 200:\t Loss=0.008,\tTraining Accuracy=100.00000%\n",
      "---------------------------------------------------------\n",
      "Epoch: 17, validation loss: 0.146, validation accuracy: 96.06629%\n",
      "---------------------------------------------------------\n",
      "Training epoch:  18\n",
      "iter   0:\t Loss=0.024,\tTraining Accuracy=100.00000%\n",
      "iter 100:\t Loss=0.025,\tTraining Accuracy=100.00000%\n",
      "iter 200:\t Loss=0.007,\tTraining Accuracy=100.00000%\n",
      "---------------------------------------------------------\n",
      "Epoch: 18, validation loss: 0.129, validation accuracy: 96.23020%\n",
      "---------------------------------------------------------\n",
      "Training epoch:  19\n",
      "iter   0:\t Loss=0.018,\tTraining Accuracy=100.00000%\n",
      "iter 100:\t Loss=0.011,\tTraining Accuracy=100.00000%\n",
      "iter 200:\t Loss=0.006,\tTraining Accuracy=100.00000%\n",
      "---------------------------------------------------------\n",
      "Epoch: 19, validation loss: 0.129, validation accuracy: 96.55800%\n",
      "---------------------------------------------------------\n",
      "Training epoch:  20\n",
      "iter   0:\t Loss=0.020,\tTraining Accuracy=100.00000%\n",
      "iter 100:\t Loss=0.012,\tTraining Accuracy=100.00000%\n",
      "iter 200:\t Loss=0.004,\tTraining Accuracy=100.00000%\n",
      "---------------------------------------------------------\n",
      "Epoch: 20, validation loss: 0.109, validation accuracy: 97.04972%\n",
      "---------------------------------------------------------\n",
      "Training epoch:  21\n",
      "iter   0:\t Loss=0.014,\tTraining Accuracy=100.00000%\n",
      "iter 100:\t Loss=0.009,\tTraining Accuracy=100.00000%\n",
      "iter 200:\t Loss=0.004,\tTraining Accuracy=100.00000%\n",
      "---------------------------------------------------------\n",
      "Epoch: 21, validation loss: 0.109, validation accuracy: 96.92224%\n",
      "---------------------------------------------------------\n",
      "Training epoch:  22\n",
      "iter   0:\t Loss=0.011,\tTraining Accuracy=100.00000%\n",
      "iter 100:\t Loss=0.008,\tTraining Accuracy=100.00000%\n",
      "iter 200:\t Loss=0.003,\tTraining Accuracy=100.00000%\n",
      "---------------------------------------------------------\n",
      "Epoch: 22, validation loss: 0.093, validation accuracy: 97.66891%\n",
      "---------------------------------------------------------\n",
      "Training epoch:  23\n",
      "iter   0:\t Loss=0.010,\tTraining Accuracy=100.00000%\n",
      "iter 100:\t Loss=0.005,\tTraining Accuracy=100.00000%\n",
      "iter 200:\t Loss=0.003,\tTraining Accuracy=100.00000%\n",
      "---------------------------------------------------------\n",
      "Epoch: 23, validation loss: 0.091, validation accuracy: 97.65070%\n",
      "---------------------------------------------------------\n",
      "Training epoch:  24\n",
      "iter   0:\t Loss=0.008,\tTraining Accuracy=100.00000%\n"
     ]
    },
    {
     "name": "stdout",
     "output_type": "stream",
     "text": [
      "iter 100:\t Loss=0.005,\tTraining Accuracy=100.00000%\n",
      "iter 200:\t Loss=0.002,\tTraining Accuracy=100.00000%\n",
      "---------------------------------------------------------\n",
      "Epoch: 24, validation loss: 0.087, validation accuracy: 97.61428%\n",
      "---------------------------------------------------------\n",
      "Training epoch:  25\n",
      "iter   0:\t Loss=0.009,\tTraining Accuracy=100.00000%\n",
      "iter 100:\t Loss=0.005,\tTraining Accuracy=100.00000%\n",
      "iter 200:\t Loss=0.002,\tTraining Accuracy=100.00000%\n",
      "---------------------------------------------------------\n",
      "Epoch: 25, validation loss: 0.077, validation accuracy: 97.66891%\n",
      "---------------------------------------------------------\n",
      "Training epoch:  26\n",
      "iter   0:\t Loss=0.007,\tTraining Accuracy=100.00000%\n",
      "iter 100:\t Loss=0.004,\tTraining Accuracy=100.00000%\n",
      "iter 200:\t Loss=0.002,\tTraining Accuracy=100.00000%\n",
      "---------------------------------------------------------\n",
      "Epoch: 26, validation loss: 0.070, validation accuracy: 97.92387%\n",
      "---------------------------------------------------------\n",
      "Training epoch:  27\n",
      "iter   0:\t Loss=0.005,\tTraining Accuracy=100.00000%\n",
      "iter 100:\t Loss=0.003,\tTraining Accuracy=100.00000%\n",
      "iter 200:\t Loss=0.002,\tTraining Accuracy=100.00000%\n",
      "---------------------------------------------------------\n",
      "Epoch: 27, validation loss: 0.072, validation accuracy: 98.17884%\n",
      "---------------------------------------------------------\n",
      "Training epoch:  28\n",
      "iter   0:\t Loss=0.005,\tTraining Accuracy=100.00000%\n",
      "iter 100:\t Loss=0.003,\tTraining Accuracy=100.00000%\n",
      "iter 200:\t Loss=0.002,\tTraining Accuracy=100.00000%\n",
      "---------------------------------------------------------\n",
      "Epoch: 28, validation loss: 0.063, validation accuracy: 98.26990%\n",
      "---------------------------------------------------------\n",
      "Training epoch:  29\n",
      "iter   0:\t Loss=0.004,\tTraining Accuracy=100.00000%\n",
      "iter 100:\t Loss=0.006,\tTraining Accuracy=100.00000%\n",
      "iter 200:\t Loss=0.001,\tTraining Accuracy=100.00000%\n",
      "---------------------------------------------------------\n",
      "Epoch: 29, validation loss: 0.057, validation accuracy: 98.48844%\n",
      "---------------------------------------------------------\n",
      "Training epoch:  30\n",
      "iter   0:\t Loss=0.004,\tTraining Accuracy=100.00000%\n",
      "iter 100:\t Loss=0.003,\tTraining Accuracy=100.00000%\n",
      "iter 200:\t Loss=0.001,\tTraining Accuracy=100.00000%\n",
      "---------------------------------------------------------\n",
      "Epoch: 30, validation loss: 0.059, validation accuracy: 98.23347%\n",
      "---------------------------------------------------------\n",
      "Training epoch:  31\n",
      "iter   0:\t Loss=0.003,\tTraining Accuracy=100.00000%\n",
      "iter 100:\t Loss=0.002,\tTraining Accuracy=100.00000%\n",
      "iter 200:\t Loss=0.001,\tTraining Accuracy=100.00000%\n",
      "---------------------------------------------------------\n",
      "Epoch: 31, validation loss: 0.053, validation accuracy: 98.68876%\n",
      "---------------------------------------------------------\n",
      "Training epoch:  32\n",
      "iter   0:\t Loss=0.002,\tTraining Accuracy=100.00000%\n",
      "iter 100:\t Loss=0.002,\tTraining Accuracy=100.00000%\n",
      "iter 200:\t Loss=0.001,\tTraining Accuracy=100.00000%\n",
      "---------------------------------------------------------\n",
      "Epoch: 32, validation loss: 0.052, validation accuracy: 98.54307%\n",
      "---------------------------------------------------------\n",
      "Training epoch:  33\n",
      "iter   0:\t Loss=0.002,\tTraining Accuracy=100.00000%\n",
      "iter 100:\t Loss=0.002,\tTraining Accuracy=100.00000%\n",
      "iter 200:\t Loss=0.001,\tTraining Accuracy=100.00000%\n",
      "---------------------------------------------------------\n",
      "Epoch: 33, validation loss: 0.055, validation accuracy: 98.36096%\n",
      "---------------------------------------------------------\n",
      "INFO:tensorflow:Restoring parameters from ./trained_model/model\n",
      "---------------------------------------------------------\n",
      "\t \t \t STOPPING EARLY\n",
      "---------------------------------------------------------\n",
      "test accuracy: 95.62186%\n"
     ]
    }
   ],
   "source": [
    "# start session and run model\n",
    "with tf.compat.v1.Session() as sess:\n",
    "\n",
    "    # initialize weights and biases and set iteration length\n",
    "    sess.run(tf.compat.v1.global_variables_initializer())\n",
    "    num_tr_iter = int(len(y_train) / BATCH_SIZE)\n",
    "    global_step = 0\n",
    "\n",
    "    # loop through epochs\n",
    "    for epoch in range(EPOCHS):\n",
    "        print(f\"Training epoch:  {epoch + 1}\")\n",
    "\n",
    "        # loop through iterations while calculating loss and accuracy for each\n",
    "        for i in range(num_tr_iter):\n",
    "            global_step += 1\n",
    "            start = i * BATCH_SIZE\n",
    "            end = (i + 1) * BATCH_SIZE\n",
    "            batch_xs, batch_ys = get_next_batch(x_train, y_train, start, end)\n",
    "\n",
    "            sess.run(train_step, feed_dict={x: batch_xs,\n",
    "                                            y_: batch_ys,\n",
    "                                            keep_prob: KEEP_PROB})\n",
    "\n",
    "            # after 100 iterations calculate and display the batch loss and accuracy\n",
    "            if i % 100 == 0:\n",
    "                loss_batch, acc_batch = sess.run([cross_entropy, accuracy], feed_dict={x: batch_xs,\n",
    "                                                                                      y_: batch_ys,\n",
    "                                                                                      keep_prob: 1.0})\n",
    "\n",
    "\n",
    "                print(f\"iter {i:3d}:\\t Loss={loss_batch:.3f},\\tTraining Accuracy={acc_batch:.5%}\")\n",
    "\n",
    "        # Run validation after every epoch\n",
    "        loss_valid, acc_valid = sess.run([cross_entropy, accuracy], feed_dict={x: x_val,\n",
    "                                                                      y_: y_val,\n",
    "                                                                      keep_prob: KEEP_PROB})\n",
    "        print('---------------------------------------------------------')\n",
    "        print(f\"Epoch: {epoch + 1}, validation loss: {loss_valid:.3f}, validation accuracy: {acc_valid:.5%}\")\n",
    "        print('---------------------------------------------------------')\n",
    "\n",
    "        # implement early stopping\n",
    "        if epoch == 0:\n",
    "            if not os.path.exists('./trained_model'):\n",
    "                os.makedirs('./trained_model')\n",
    "            saver.save(sess, './trained_model/model')\n",
    "            best_loss_valid = loss_valid\n",
    "            continue\n",
    "\n",
    "        if loss_valid < best_loss_valid:\n",
    "            best_loss_valid = loss_valid\n",
    "            saver.save(sess, './trained_model/model')\n",
    "\n",
    "        if (loss_valid / best_loss_valid - 1) * 100 > 4:\n",
    "            saver.restore(sess, './trained_model/model')\n",
    "            print('---------------------------------------------------------')\n",
    "            print('\\t \\t \\t STOPPING EARLY')\n",
    "            print('---------------------------------------------------------')\n",
    "            break\n",
    "\n",
    "\n",
    "\n",
    "\n",
    "    # test model performance on test data\n",
    "    test_accuracy = np.mean([sess.run(accuracy,\n",
    "                                      feed_dict={x: x_test,\n",
    "                                                 y_: y_test,\n",
    "                                                 keep_prob: 1.0})])\n",
    "\n",
    "print(f\"test accuracy: {test_accuracy:.5%}\")"
   ]
  },
  {
   "cell_type": "markdown",
   "metadata": {},
   "source": [
    "## Visualize Results"
   ]
  },
  {
   "cell_type": "markdown",
   "metadata": {},
   "source": [
    "### Define helper functions for plots"
   ]
  },
  {
   "cell_type": "code",
   "execution_count": 9,
   "metadata": {},
   "outputs": [],
   "source": [
    "# write functions for plotting correct and incorrect examples\n",
    "def plot_images(images, cls_true, cls_pred=None, title=None):\n",
    "\n",
    "    fig, axes = plt.subplots(2, 2, figsize=(6, 6))\n",
    "    fig.subplots_adjust(hspace=0.3, wspace=0.3)\n",
    "    for i, ax in enumerate(axes.flat):\n",
    "        # Plot image.\n",
    "        ax.imshow(images[i].reshape(28, 28), cmap='binary')\n",
    "\n",
    "        # Show true and predicted classes.\n",
    "        ax_title = f\"True:{dict_pred[cls_true[i]]}  -  Pred: {dict_pred[cls_pred[i]]}\"\n",
    "\n",
    "        ax.set_title(ax_title)\n",
    "\n",
    "        # Remove ticks from the plot.\n",
    "        ax.set_xticks([])\n",
    "        ax.set_yticks([])\n",
    "\n",
    "    if title:\n",
    "        plt.suptitle(title, size=20)\n",
    "    plt.show(block=False)\n",
    "    \n",
    "def plot_example_errors(images, cls_true, cls_pred, title=None):\n",
    "\n",
    "    # retrieve incorrectly classified pics\n",
    "    incorrect = np.logical_not(np.equal(cls_pred, cls_true))\n",
    "\n",
    "    incorrect_images = images[incorrect]\n",
    "\n",
    "    # Get the true and predicted classes for those images.\n",
    "    cls_pred = cls_pred[incorrect]\n",
    "    cls_true = cls_true[incorrect]\n",
    "\n",
    "    # Plot the first 4 images.\n",
    "    plot_images(images=incorrect_images,\n",
    "                cls_true=cls_true,\n",
    "                cls_pred=cls_pred,\n",
    "                title=title)"
   ]
  },
  {
   "cell_type": "markdown",
   "metadata": {},
   "source": [
    "### Examples of correctly and falsely classified images\n",
    "We use our trained network to predict the test dataset. The following cell shows some examples of correctly and incorrectly classified images."
   ]
  },
  {
   "cell_type": "code",
   "execution_count": 10,
   "metadata": {},
   "outputs": [
    {
     "name": "stdout",
     "output_type": "stream",
     "text": [
      "INFO:tensorflow:Restoring parameters from ./trained_model/model\n"
     ]
    },
    {
     "data": {
      "image/png": "[encoded data removed]",
      "text/plain": [
       "<Figure size 432x432 with 4 Axes>"
      ]
     },
     "metadata": {},
     "output_type": "display_data"
    },
    {
     "data": {
      "image/png": "[encoded data removed]",
      "text/plain": [
       "<Figure size 432x432 with 4 Axes>"
      ]
     },
     "metadata": {},
     "output_type": "display_data"
    }
   ],
   "source": [
    "with tf.compat.v1.Session() as sess:\n",
    "    saver.restore(sess, './trained_model/model')\n",
    "    cls_pred = sess.run(y_pred, feed_dict={x: x_test, y_: y_test, keep_prob: 1.0})\n",
    "    \n",
    "y_lab = []\n",
    "\n",
    "for i in range(y_test.shape[0]):\n",
    "    y_lab.append(np.argmax(y_test[i,]))\n",
    "\n",
    "y_lab = np.array(y_lab)\n",
    "# plot correct and incorrect predicted examples\n",
    "cls_true = np.argmax(y_test, axis=1)\n",
    "plot_images(x_test, cls_true, cls_pred, title='Correct Examples')\n",
    "plot_example_errors(x_test, cls_true, cls_pred, title='Misclassified Examples')\n",
    "\n",
    "    "
   ]
  },
  {
   "cell_type": "markdown",
   "metadata": {},
   "source": [
    "### Confusion matrix\n",
    "Using the predictions from before, we create a confusion matrix. As the name already suggests, the confusion matrix illustrates which letters are 'confused' with others. Given our high test accuracy, it is not surprising that most of the letters are classified correctly."
   ]
  },
  {
   "cell_type": "code",
   "execution_count": 11,
   "metadata": {},
   "outputs": [
    {
     "name": "stdout",
     "output_type": "stream",
     "text": [
      "INFO:tensorflow:Restoring parameters from ./trained_model/model\n"
     ]
    },
    {
     "data": {
      "image/png": "[encoded data removed]",
      "text/plain": [
       "<Figure size 1728x1728 with 2 Axes>"
      ]
     },
     "metadata": {
      "needs_background": "light"
     },
     "output_type": "display_data"
    }
   ],
   "source": [
    "confusion = tf.math.confusion_matrix(y_lab, cls_pred,\n",
    "                                     num_classes=24, weights=None, dtype=tf.dtypes.int32, name=None)\n",
    "\n",
    "with tf.compat.v1.Session() as sess:\n",
    "    saver.restore(sess, './trained_model/model')\n",
    "    x = sess.run(confusion)\n",
    "    \n",
    "x = np.around(x.astype('float') / x.sum(axis=1)[:, np.newaxis], decimals=2)\n",
    "x_df = pd.DataFrame(x,\n",
    "                    index=['A', 'B', 'C', 'D', 'E', 'F', 'G', 'H', 'I', 'K', 'L', 'M', 'N', 'O', 'P', 'Q', 'R',\n",
    "                           'S', 'T', 'U', 'V', 'W', 'X', 'Y'],\n",
    "                    columns=['A', 'B', 'C', 'D', 'E', 'F', 'G', 'H', 'I', 'K', 'L', 'M', 'N', 'O', 'P', 'Q', 'R',\n",
    "                             'S', 'T', 'U', 'V', 'W', 'X', 'Y'])\n",
    "\n",
    "figure = plt.figure(figsize=(24, 24))\n",
    "seaborn.heatmap(x_df, annot=True, cmap='cividis')\n",
    "#plt.tight_layout()\n",
    "plt.ylabel('True label');\n",
    "plt.xlabel('Predicted label');"
   ]
  }
 ],
 "metadata": {
  "kernelspec": {
   "display_name": "Python 3",
   "language": "python",
   "name": "python3"
  },
  "language_info": {
   "codemirror_mode": {
    "name": "ipython",
    "version": 3
   },
   "file_extension": ".py",
   "mimetype": "text/x-python",
   "name": "python",
   "nbconvert_exporter": "python",
   "pygments_lexer": "ipython3",
   "version": "3.7.5"
  }
 },
 "nbformat": 4,
 "nbformat_minor": 4
}
